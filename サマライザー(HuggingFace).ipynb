{
  "nbformat": 4,
  "nbformat_minor": 0,
  "metadata": {
    "colab": {
      "provenance": [],
      "toc_visible": true,
      "authorship_tag": "ABX9TyN8kwwhjS4zSJgXQXU4xdiT",
      "include_colab_link": true
    },
    "kernelspec": {
      "name": "python3",
      "display_name": "Python 3"
    },
    "language_info": {
      "name": "python"
    }
  },
  "cells": [
    {
      "cell_type": "markdown",
      "metadata": {
        "id": "view-in-github",
        "colab_type": "text"
      },
      "source": [
        "<a href=\"https://colab.research.google.com/github/sit-xinli/ai-course5/blob/main/%E3%82%B5%E3%83%9E%E3%83%A9%E3%82%A4%E3%82%B6%E3%83%BC(HuggingFace).ipynb\" target=\"_parent\"><img src=\"https://colab.research.google.com/assets/colab-badge.svg\" alt=\"Open In Colab\"/></a>"
      ]
    },
    {
      "cell_type": "markdown",
      "source": [
        "# １．ライブラリインストール"
      ],
      "metadata": {
        "id": "Hfsin3fKFHuf"
      }
    },
    {
      "cell_type": "code",
      "source": [
        "!pip install gradio"
      ],
      "metadata": {
        "colab": {
          "base_uri": "https://localhost:8080/"
        },
        "id": "9OXbFsUTre_Z",
        "outputId": "44757fc4-7604-460b-dd64-caa48b6b9e73"
      },
      "execution_count": 5,
      "outputs": [
        {
          "output_type": "stream",
          "name": "stdout",
          "text": [
            "Collecting gradio\n",
            "  Downloading gradio-5.30.0-py3-none-any.whl.metadata (16 kB)\n",
            "Collecting aiofiles<25.0,>=22.0 (from gradio)\n",
            "  Downloading aiofiles-24.1.0-py3-none-any.whl.metadata (10 kB)\n",
            "Requirement already satisfied: anyio<5.0,>=3.0 in /usr/local/lib/python3.11/dist-packages (from gradio) (4.9.0)\n",
            "Collecting fastapi<1.0,>=0.115.2 (from gradio)\n",
            "  Downloading fastapi-0.115.12-py3-none-any.whl.metadata (27 kB)\n",
            "Collecting ffmpy (from gradio)\n",
            "  Downloading ffmpy-0.5.0-py3-none-any.whl.metadata (3.0 kB)\n",
            "Collecting gradio-client==1.10.1 (from gradio)\n",
            "  Downloading gradio_client-1.10.1-py3-none-any.whl.metadata (7.1 kB)\n",
            "Collecting groovy~=0.1 (from gradio)\n",
            "  Downloading groovy-0.1.2-py3-none-any.whl.metadata (6.1 kB)\n",
            "Requirement already satisfied: httpx>=0.24.1 in /usr/local/lib/python3.11/dist-packages (from gradio) (0.28.1)\n",
            "Requirement already satisfied: huggingface-hub>=0.28.1 in /usr/local/lib/python3.11/dist-packages (from gradio) (0.31.2)\n",
            "Requirement already satisfied: jinja2<4.0 in /usr/local/lib/python3.11/dist-packages (from gradio) (3.1.6)\n",
            "Requirement already satisfied: markupsafe<4.0,>=2.0 in /usr/local/lib/python3.11/dist-packages (from gradio) (3.0.2)\n",
            "Requirement already satisfied: numpy<3.0,>=1.0 in /usr/local/lib/python3.11/dist-packages (from gradio) (2.0.2)\n",
            "Requirement already satisfied: orjson~=3.0 in /usr/local/lib/python3.11/dist-packages (from gradio) (3.10.18)\n",
            "Requirement already satisfied: packaging in /usr/local/lib/python3.11/dist-packages (from gradio) (24.2)\n",
            "Requirement already satisfied: pandas<3.0,>=1.0 in /usr/local/lib/python3.11/dist-packages (from gradio) (2.2.2)\n",
            "Requirement already satisfied: pillow<12.0,>=8.0 in /usr/local/lib/python3.11/dist-packages (from gradio) (11.2.1)\n",
            "Requirement already satisfied: pydantic<2.12,>=2.0 in /usr/local/lib/python3.11/dist-packages (from gradio) (2.11.4)\n",
            "Collecting pydub (from gradio)\n",
            "  Downloading pydub-0.25.1-py2.py3-none-any.whl.metadata (1.4 kB)\n",
            "Collecting python-multipart>=0.0.18 (from gradio)\n",
            "  Downloading python_multipart-0.0.20-py3-none-any.whl.metadata (1.8 kB)\n",
            "Requirement already satisfied: pyyaml<7.0,>=5.0 in /usr/local/lib/python3.11/dist-packages (from gradio) (6.0.2)\n",
            "Collecting ruff>=0.9.3 (from gradio)\n",
            "  Downloading ruff-0.11.10-py3-none-manylinux_2_17_x86_64.manylinux2014_x86_64.whl.metadata (25 kB)\n",
            "Collecting safehttpx<0.2.0,>=0.1.6 (from gradio)\n",
            "  Downloading safehttpx-0.1.6-py3-none-any.whl.metadata (4.2 kB)\n",
            "Collecting semantic-version~=2.0 (from gradio)\n",
            "  Downloading semantic_version-2.10.0-py2.py3-none-any.whl.metadata (9.7 kB)\n",
            "Collecting starlette<1.0,>=0.40.0 (from gradio)\n",
            "  Downloading starlette-0.46.2-py3-none-any.whl.metadata (6.2 kB)\n",
            "Collecting tomlkit<0.14.0,>=0.12.0 (from gradio)\n",
            "  Downloading tomlkit-0.13.2-py3-none-any.whl.metadata (2.7 kB)\n",
            "Requirement already satisfied: typer<1.0,>=0.12 in /usr/local/lib/python3.11/dist-packages (from gradio) (0.15.3)\n",
            "Requirement already satisfied: typing-extensions~=4.0 in /usr/local/lib/python3.11/dist-packages (from gradio) (4.13.2)\n",
            "Collecting uvicorn>=0.14.0 (from gradio)\n",
            "  Downloading uvicorn-0.34.2-py3-none-any.whl.metadata (6.5 kB)\n",
            "Requirement already satisfied: fsspec in /usr/local/lib/python3.11/dist-packages (from gradio-client==1.10.1->gradio) (2025.3.2)\n",
            "Requirement already satisfied: websockets<16.0,>=10.0 in /usr/local/lib/python3.11/dist-packages (from gradio-client==1.10.1->gradio) (15.0.1)\n",
            "Requirement already satisfied: idna>=2.8 in /usr/local/lib/python3.11/dist-packages (from anyio<5.0,>=3.0->gradio) (3.10)\n",
            "Requirement already satisfied: sniffio>=1.1 in /usr/local/lib/python3.11/dist-packages (from anyio<5.0,>=3.0->gradio) (1.3.1)\n",
            "Requirement already satisfied: certifi in /usr/local/lib/python3.11/dist-packages (from httpx>=0.24.1->gradio) (2025.4.26)\n",
            "Requirement already satisfied: httpcore==1.* in /usr/local/lib/python3.11/dist-packages (from httpx>=0.24.1->gradio) (1.0.9)\n",
            "Requirement already satisfied: h11>=0.16 in /usr/local/lib/python3.11/dist-packages (from httpcore==1.*->httpx>=0.24.1->gradio) (0.16.0)\n",
            "Requirement already satisfied: filelock in /usr/local/lib/python3.11/dist-packages (from huggingface-hub>=0.28.1->gradio) (3.18.0)\n",
            "Requirement already satisfied: requests in /usr/local/lib/python3.11/dist-packages (from huggingface-hub>=0.28.1->gradio) (2.32.3)\n",
            "Requirement already satisfied: tqdm>=4.42.1 in /usr/local/lib/python3.11/dist-packages (from huggingface-hub>=0.28.1->gradio) (4.67.1)\n",
            "Requirement already satisfied: python-dateutil>=2.8.2 in /usr/local/lib/python3.11/dist-packages (from pandas<3.0,>=1.0->gradio) (2.9.0.post0)\n",
            "Requirement already satisfied: pytz>=2020.1 in /usr/local/lib/python3.11/dist-packages (from pandas<3.0,>=1.0->gradio) (2025.2)\n",
            "Requirement already satisfied: tzdata>=2022.7 in /usr/local/lib/python3.11/dist-packages (from pandas<3.0,>=1.0->gradio) (2025.2)\n",
            "Requirement already satisfied: annotated-types>=0.6.0 in /usr/local/lib/python3.11/dist-packages (from pydantic<2.12,>=2.0->gradio) (0.7.0)\n",
            "Requirement already satisfied: pydantic-core==2.33.2 in /usr/local/lib/python3.11/dist-packages (from pydantic<2.12,>=2.0->gradio) (2.33.2)\n",
            "Requirement already satisfied: typing-inspection>=0.4.0 in /usr/local/lib/python3.11/dist-packages (from pydantic<2.12,>=2.0->gradio) (0.4.0)\n",
            "Requirement already satisfied: click>=8.0.0 in /usr/local/lib/python3.11/dist-packages (from typer<1.0,>=0.12->gradio) (8.2.0)\n",
            "Requirement already satisfied: shellingham>=1.3.0 in /usr/local/lib/python3.11/dist-packages (from typer<1.0,>=0.12->gradio) (1.5.4)\n",
            "Requirement already satisfied: rich>=10.11.0 in /usr/local/lib/python3.11/dist-packages (from typer<1.0,>=0.12->gradio) (13.9.4)\n",
            "Requirement already satisfied: six>=1.5 in /usr/local/lib/python3.11/dist-packages (from python-dateutil>=2.8.2->pandas<3.0,>=1.0->gradio) (1.17.0)\n",
            "Requirement already satisfied: markdown-it-py>=2.2.0 in /usr/local/lib/python3.11/dist-packages (from rich>=10.11.0->typer<1.0,>=0.12->gradio) (3.0.0)\n",
            "Requirement already satisfied: pygments<3.0.0,>=2.13.0 in /usr/local/lib/python3.11/dist-packages (from rich>=10.11.0->typer<1.0,>=0.12->gradio) (2.19.1)\n",
            "Requirement already satisfied: charset-normalizer<4,>=2 in /usr/local/lib/python3.11/dist-packages (from requests->huggingface-hub>=0.28.1->gradio) (3.4.2)\n",
            "Requirement already satisfied: urllib3<3,>=1.21.1 in /usr/local/lib/python3.11/dist-packages (from requests->huggingface-hub>=0.28.1->gradio) (2.4.0)\n",
            "Requirement already satisfied: mdurl~=0.1 in /usr/local/lib/python3.11/dist-packages (from markdown-it-py>=2.2.0->rich>=10.11.0->typer<1.0,>=0.12->gradio) (0.1.2)\n",
            "Downloading gradio-5.30.0-py3-none-any.whl (54.2 MB)\n",
            "\u001b[2K   \u001b[90m━━━━━━━━━━━━━━━━━━━━━━━━━━━━━━━━━━━━━━━━\u001b[0m \u001b[32m54.2/54.2 MB\u001b[0m \u001b[31m14.8 MB/s\u001b[0m eta \u001b[36m0:00:00\u001b[0m\n",
            "\u001b[?25hDownloading gradio_client-1.10.1-py3-none-any.whl (323 kB)\n",
            "\u001b[2K   \u001b[90m━━━━━━━━━━━━━━━━━━━━━━━━━━━━━━━━━━━━━━━━\u001b[0m \u001b[32m323.1/323.1 kB\u001b[0m \u001b[31m31.3 MB/s\u001b[0m eta \u001b[36m0:00:00\u001b[0m\n",
            "\u001b[?25hDownloading aiofiles-24.1.0-py3-none-any.whl (15 kB)\n",
            "Downloading fastapi-0.115.12-py3-none-any.whl (95 kB)\n",
            "\u001b[2K   \u001b[90m━━━━━━━━━━━━━━━━━━━━━━━━━━━━━━━━━━━━━━━━\u001b[0m \u001b[32m95.2/95.2 kB\u001b[0m \u001b[31m10.8 MB/s\u001b[0m eta \u001b[36m0:00:00\u001b[0m\n",
            "\u001b[?25hDownloading groovy-0.1.2-py3-none-any.whl (14 kB)\n",
            "Downloading python_multipart-0.0.20-py3-none-any.whl (24 kB)\n",
            "Downloading ruff-0.11.10-py3-none-manylinux_2_17_x86_64.manylinux2014_x86_64.whl (11.6 MB)\n",
            "\u001b[2K   \u001b[90m━━━━━━━━━━━━━━━━━━━━━━━━━━━━━━━━━━━━━━━━\u001b[0m \u001b[32m11.6/11.6 MB\u001b[0m \u001b[31m113.5 MB/s\u001b[0m eta \u001b[36m0:00:00\u001b[0m\n",
            "\u001b[?25hDownloading safehttpx-0.1.6-py3-none-any.whl (8.7 kB)\n",
            "Downloading semantic_version-2.10.0-py2.py3-none-any.whl (15 kB)\n",
            "Downloading starlette-0.46.2-py3-none-any.whl (72 kB)\n",
            "\u001b[2K   \u001b[90m━━━━━━━━━━━━━━━━━━━━━━━━━━━━━━━━━━━━━━━━\u001b[0m \u001b[32m72.0/72.0 kB\u001b[0m \u001b[31m8.1 MB/s\u001b[0m eta \u001b[36m0:00:00\u001b[0m\n",
            "\u001b[?25hDownloading tomlkit-0.13.2-py3-none-any.whl (37 kB)\n",
            "Downloading uvicorn-0.34.2-py3-none-any.whl (62 kB)\n",
            "\u001b[2K   \u001b[90m━━━━━━━━━━━━━━━━━━━━━━━━━━━━━━━━━━━━━━━━\u001b[0m \u001b[32m62.5/62.5 kB\u001b[0m \u001b[31m6.8 MB/s\u001b[0m eta \u001b[36m0:00:00\u001b[0m\n",
            "\u001b[?25hDownloading ffmpy-0.5.0-py3-none-any.whl (6.0 kB)\n",
            "Downloading pydub-0.25.1-py2.py3-none-any.whl (32 kB)\n",
            "Installing collected packages: pydub, uvicorn, tomlkit, semantic-version, ruff, python-multipart, groovy, ffmpy, aiofiles, starlette, safehttpx, gradio-client, fastapi, gradio\n",
            "Successfully installed aiofiles-24.1.0 fastapi-0.115.12 ffmpy-0.5.0 gradio-5.30.0 gradio-client-1.10.1 groovy-0.1.2 pydub-0.25.1 python-multipart-0.0.20 ruff-0.11.10 safehttpx-0.1.6 semantic-version-2.10.0 starlette-0.46.2 tomlkit-0.13.2 uvicorn-0.34.2\n"
          ]
        }
      ]
    },
    {
      "cell_type": "code",
      "source": [
        "!pip install huggingface_hub"
      ],
      "metadata": {
        "colab": {
          "base_uri": "https://localhost:8080/"
        },
        "id": "OFVBFmenPbpn",
        "outputId": "386661c8-9926-4b95-a51b-230a21bf114e"
      },
      "execution_count": null,
      "outputs": [
        {
          "output_type": "stream",
          "name": "stdout",
          "text": [
            "Requirement already satisfied: huggingface_hub in /usr/local/lib/python3.11/dist-packages (0.31.2)\n",
            "Requirement already satisfied: filelock in /usr/local/lib/python3.11/dist-packages (from huggingface_hub) (3.18.0)\n",
            "Requirement already satisfied: fsspec>=2023.5.0 in /usr/local/lib/python3.11/dist-packages (from huggingface_hub) (2025.3.2)\n",
            "Requirement already satisfied: packaging>=20.9 in /usr/local/lib/python3.11/dist-packages (from huggingface_hub) (24.2)\n",
            "Requirement already satisfied: pyyaml>=5.1 in /usr/local/lib/python3.11/dist-packages (from huggingface_hub) (6.0.2)\n",
            "Requirement already satisfied: requests in /usr/local/lib/python3.11/dist-packages (from huggingface_hub) (2.32.3)\n",
            "Requirement already satisfied: tqdm>=4.42.1 in /usr/local/lib/python3.11/dist-packages (from huggingface_hub) (4.67.1)\n",
            "Requirement already satisfied: typing-extensions>=3.7.4.3 in /usr/local/lib/python3.11/dist-packages (from huggingface_hub) (4.13.2)\n",
            "Requirement already satisfied: charset-normalizer<4,>=2 in /usr/local/lib/python3.11/dist-packages (from requests->huggingface_hub) (3.4.2)\n",
            "Requirement already satisfied: idna<4,>=2.5 in /usr/local/lib/python3.11/dist-packages (from requests->huggingface_hub) (3.10)\n",
            "Requirement already satisfied: urllib3<3,>=1.21.1 in /usr/local/lib/python3.11/dist-packages (from requests->huggingface_hub) (2.4.0)\n",
            "Requirement already satisfied: certifi>=2017.4.17 in /usr/local/lib/python3.11/dist-packages (from requests->huggingface_hub) (2025.4.26)\n"
          ]
        }
      ]
    },
    {
      "cell_type": "code",
      "source": [
        "from huggingface_hub import InferenceClient\n",
        "from google.colab import userdata\n",
        "import gradio as gr\n",
        "import json\n",
        "from typing import List, Dict, Tuple\n",
        "\n",
        "## ★★★　TODO:あなたの予約する文章\n",
        "default_article = \"\"\"\n",
        "新型コロナウイルスの感染拡大期に困窮世帯を支えるため、１兆円超の国費が投じられた特例貸付制度で、昨年末までに返済期限を迎えた２４１３億円のうち、６割にあたる１４６６億円が滞納になっていることが、厚生労働省のまとめで分かった。厚労省は今年度から、督促や困窮者に対する支援の状況を把握した上で強化を促す。生活再建を後押しし、着実な返済につなげる。\n",
        "制度は、休業などで収入が減少した世帯が都道府県の社会福祉協議会（社協）を通じ、２００万円まで無利子で借りられた。１６０万世帯ほどが利用したとみられる。２０２０年３月～２２年９月の貸付額は計１兆４４３１億円に上った。\n",
        "返済は２３年１月から順次始まり、１世帯あたり毎月、数千円～数万円を返済している。２４年末までに期限を迎えた総額のうち、予定通り返済されたのは３９％にあたる９４７億円。滞納額は６１％にあたる１４６６億円で２３年末（６６０億円）から倍増した。厚労省は「支援を急ぐ中、返済能力を十分に見極められなかった」と要因を説明する。\n",
        "厚労省は都道府県社協に対し、市区町村社協などが行う家庭訪問による督促の状況、就労や家計改善の支援といった取り組みを毎年度、報告するよう求める。\n",
        "制度では、住民税非課税などの世帯は国から返済免除を認められる。会計検査院は昨年１０月、一部の社協で免除や滞納の世帯への支援が不十分だと指摘していた。厚労省は支援状況を継続的に検証し、強化を働きかける。貸付金の返済は３４年頃まで続く見込みで、生活再建が進めば滞納状況の改善につながると期待する。\n",
        "日本福祉大の角崎洋平教授（社会福祉学）は「物価高で家計は厳しさを増しており、低所得者への住宅補助など安全網も充実させるべきだ」と指摘する。\n",
        "\"\"\"\n",
        "\n",
        "## ★★★　TODO：プロンプトを\"\"に入力する\n",
        "prompt_for_summarization = \"\"\"\n",
        "日本語で文章を簡潔に要約して\n",
        "\n",
        "\"\"\"\n",
        "\n",
        "API_TOKEN=userdata.get('HF_TOKEN')\n",
        "client = InferenceClient(\n",
        "    model=\"Qwen/Qwen2.5-1.5B-Instruct\",\n",
        "    token=API_TOKEN\n",
        ")\n",
        "\n",
        "response = client.chat_completion(\n",
        "            messages=[\n",
        "                 {\"role\": \"system\", \"content\": prompt_for_summarization},\n",
        "                 {\"role\": \"user\", \"content\": default_article}\n",
        "            ],\n",
        "            temperature = 1.0,\n",
        "            max_tokens=200,\n",
        "    )\n",
        "print(\"Summary:\", response.choices[0].message[\"content\"])\n"
      ],
      "metadata": {
        "colab": {
          "base_uri": "https://localhost:8080/"
        },
        "id": "ZvkG_M-sPpol",
        "outputId": "b6a77cc1-4370-4304-b00a-1a3ae3b5f4ab"
      },
      "execution_count": 8,
      "outputs": [
        {
          "output_type": "stream",
          "name": "stdout",
          "text": [
            "Summary: 日本の感染症対策として、政府による一連の措置により多くの困窮世帯が支援を受けることが伝えられています。しかし、これらのプログラムにおいて、一部の世帯では返済が遅れていることが明らかになりました。今後、支援を行っている自治体からの督促や緊急的な生活改善支援を増やすことで、滞納を解消し返済を確保することは重要です。また、住民税等非課税世帯を含む特殊世帯にも支援を提供することにより、困窮世帯の負債解消と回復を助けます。\n",
            "\n",
            "この制度によって2020年3月から2022年9月までの総借金額は1兆4千4百三十億円となり、滞納世帯で占める241億円のうち、6割程度という結果になっています。そして、39%が返\n"
          ]
        }
      ]
    },
    {
      "cell_type": "markdown",
      "source": [
        "# ２．要約：次のセルは実行して出力ファイルがえられたら、手動で停止してください"
      ],
      "metadata": {
        "id": "N1vCLDOiBYvJ"
      }
    },
    {
      "cell_type": "code",
      "source": [
        "# 会話をリセットする関数\n",
        "def reset() -> List[Tuple[str, str]]:\n",
        "    return []\n",
        "\n",
        "# 関数を呼び出してモデルを生成する。\n",
        "def interact_summarization(prompt: str, article: str, temp = 1.0) -> List[Tuple[str, str]]:\n",
        "    '''\n",
        "    * 引数\n",
        "      - prompt: このセクションで使用するプロンプト。\n",
        "      - article: 要約する記事\n",
        "      - temp: このモデルの温度パラメータ。 温度はチャットボットの出力をコントロールするために使われる。\n",
        "              温度が高ければ高いほど、よりクリエイティブな反応が得られる。\n",
        "    '''\n",
        "    response = client.chat_completion(\n",
        "            messages=[\n",
        "                 {\"role\": \"system\", \"content\": prompt},\n",
        "                 {\"role\": \"user\", \"content\": article}\n",
        "            ],\n",
        "            temperature = temp,\n",
        "            max_tokens=300,\n",
        "    )\n",
        "\n",
        "    result: List[Dict[str, str]] = []\n",
        "    result.append({\"role\": \"user\", \"content\": article})\n",
        "    result.append({\"role\": \"assistant\", \"content\": response.choices[0].message[\"content\"]})\n",
        "    return result\n",
        "\n",
        "# 会話全体を出力する関数\n",
        "def export_summarization(chatbot: List[Tuple[str, str]], article: str) -> None:\n",
        "    '''\n",
        "    * 引数\n",
        "      - chatbot: モデル自身。会話はタプルのリストに格納される。\n",
        "      - article: 要約される記事\n",
        "    '''\n",
        "    target = {\"chatbot\": chatbot, \"article\": article}\n",
        "    with open(\"summarized.json\", \"w\", encoding='utf-8') as file:\n",
        "        json.dump(target, file, ensure_ascii=False)\n",
        "\n",
        "# この部分はGradioのユーザインターフェイスを生成する\n",
        "with gr.Blocks() as demo:\n",
        "    gr.Markdown(\"# 好きな記事を記入して、チャットボットが要約してくれるよ！\")\n",
        "    chatbot = gr.Chatbot(type='messages')\n",
        "    prompt_textbox = gr.Textbox(label=\"プロンプト\", value=prompt_for_summarization, visible=False)\n",
        "    article_textbox = gr.Textbox(label=\"文章\", interactive = True, value = default_article)\n",
        "    with gr.Column():\n",
        "        gr.Markdown(\"#  Temperature(温度)はチャットボットの出力を制御するために使用される。 温度が高ければ高いほど、よりクリエイティブな反応が得られる。\")\n",
        "        temperature_slider = gr.Slider(0.0, 2.0, 1.0, step = 0.1, label=\"温度\")\n",
        "    with gr.Row():\n",
        "        sent_button = gr.Button(value=\"送信\")\n",
        "        reset_button = gr.Button(value=\"リセット\")\n",
        "\n",
        "    with gr.Column():\n",
        "        gr.Markdown(\"# 満足のいく結果が得られたら。 「出力」ボタンをクリックしてファイル化してください。\")\n",
        "        export_button = gr.Button(value=\"出力\")\n",
        "    sent_button.click(interact_summarization, inputs=[prompt_textbox, article_textbox, temperature_slider], outputs=[chatbot])\n",
        "    reset_button.click(reset, outputs=[chatbot])\n",
        "    export_button.click(export_summarization, inputs=[chatbot, article_textbox])\n",
        "\n",
        "demo.launch(debug = True, share=True)"
      ],
      "metadata": {
        "colab": {
          "base_uri": "https://localhost:8080/",
          "height": 631
        },
        "id": "oEFtHCJOtBax",
        "outputId": "82469dc4-3503-45bb-cccb-75ac708ad010"
      },
      "execution_count": 14,
      "outputs": [
        {
          "output_type": "stream",
          "name": "stdout",
          "text": [
            "Colab notebook detected. This cell will run indefinitely so that you can see errors and logs. To turn off, set debug=False in launch().\n",
            "* Running on public URL: https://3618c265b5ae9ff728.gradio.live\n",
            "\n",
            "This share link expires in 1 week. For free permanent hosting and GPU upgrades, run `gradio deploy` from the terminal in the working directory to deploy to Hugging Face Spaces (https://huggingface.co/spaces)\n"
          ]
        },
        {
          "output_type": "display_data",
          "data": {
            "text/plain": [
              "<IPython.core.display.HTML object>"
            ],
            "text/html": [
              "<div><iframe src=\"https://3618c265b5ae9ff728.gradio.live\" width=\"100%\" height=\"500\" allow=\"autoplay; camera; microphone; clipboard-read; clipboard-write;\" frameborder=\"0\" allowfullscreen></iframe></div>"
            ]
          },
          "metadata": {}
        },
        {
          "output_type": "stream",
          "name": "stdout",
          "text": [
            "Keyboard interruption in main thread... closing server.\n",
            "Killing tunnel 127.0.0.1:7860 <> https://3618c265b5ae9ff728.gradio.live\n"
          ]
        },
        {
          "output_type": "execute_result",
          "data": {
            "text/plain": []
          },
          "metadata": {},
          "execution_count": 14
        }
      ]
    },
    {
      "cell_type": "markdown",
      "source": [
        "# ３．出力：前のセルの実行を停止してから、次のセルを実行する。結果を採点システムにコピーする。"
      ],
      "metadata": {
        "id": "ARlsxVZ3BNOP"
      }
    },
    {
      "cell_type": "code",
      "source": [
        "# load the conversation log json file\n",
        "with open(\"summarized.json\", \"r\") as f:\n",
        "    context = json.load(f)\n",
        "\n",
        "summarization = context['chatbot'][-1]['content']\n",
        "article = context['article']\n",
        "\n",
        "# this part constructs the Gradio UI interface\n",
        "with gr.Blocks() as demo:\n",
        "    gr.Markdown(\"# 好きな記事を要約してくれたよ！\")\n",
        "    with gr.Column():\n",
        "        gr.Markdown(\"# この部分を採点システムにコピーする.\")\n",
        "        gr.Textbox(label = \"文章\", value = article, show_copy_button = True)\n",
        "        gr.Textbox(label=\"要約\", value = summarization, show_copy_button = True)\n",
        "\n",
        "demo.launch(debug = True, share=True)"
      ],
      "metadata": {
        "colab": {
          "base_uri": "https://localhost:8080/",
          "height": 631
        },
        "id": "hFhyxvks-c0_",
        "outputId": "08f09ebd-3d21-4fe8-8d88-ed4e62b1eefc"
      },
      "execution_count": 15,
      "outputs": [
        {
          "output_type": "stream",
          "name": "stdout",
          "text": [
            "Colab notebook detected. This cell will run indefinitely so that you can see errors and logs. To turn off, set debug=False in launch().\n",
            "* Running on public URL: https://a7b05f349c6b3439b8.gradio.live\n",
            "\n",
            "This share link expires in 1 week. For free permanent hosting and GPU upgrades, run `gradio deploy` from the terminal in the working directory to deploy to Hugging Face Spaces (https://huggingface.co/spaces)\n"
          ]
        },
        {
          "output_type": "display_data",
          "data": {
            "text/plain": [
              "<IPython.core.display.HTML object>"
            ],
            "text/html": [
              "<div><iframe src=\"https://a7b05f349c6b3439b8.gradio.live\" width=\"100%\" height=\"500\" allow=\"autoplay; camera; microphone; clipboard-read; clipboard-write;\" frameborder=\"0\" allowfullscreen></iframe></div>"
            ]
          },
          "metadata": {}
        },
        {
          "output_type": "stream",
          "name": "stdout",
          "text": [
            "Keyboard interruption in main thread... closing server.\n",
            "Killing tunnel 127.0.0.1:7860 <> https://a7b05f349c6b3439b8.gradio.live\n"
          ]
        },
        {
          "output_type": "execute_result",
          "data": {
            "text/plain": []
          },
          "metadata": {},
          "execution_count": 15
        }
      ]
    },
    {
      "cell_type": "markdown",
      "source": [
        "# ４. セルの実行を停止したことを確認してください"
      ],
      "metadata": {
        "id": "ivPT5R8lFjaT"
      }
    }
  ]
}